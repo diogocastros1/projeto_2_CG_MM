{
 "cells": [
  {
   "cell_type": "code",
   "execution_count": null,
   "metadata": {},
   "outputs": [],
   "source": [
    "import cv2\n",
    "import numpy as np\n",
    "from matplotlib import pyplot as plt\n",
    "\n",
    "# Carregar o vídeo (ou usar a câmera)\n",
    "video_path = 'caminho/do/video.mp4'\n",
    "cap = cv2.VideoCapture(video_path)\n",
    "\n",
    "# Inicializar o objeto de subtração de fundo\n",
    "fgbg = cv2.createBackgroundSubtractorMOG2()\n",
    "\n",
    "while True:\n",
    "    # Ler o frame do vídeo\n",
    "    ret, frame = cap.read()\n",
    "\n",
    "    if not ret:\n",
    "        break\n",
    "\n",
    "    # Aplicar a subtração de fundo\n",
    "    fgmask = fgbg.apply(frame)\n",
    "\n",
    "    # Mostrar os resultados\n",
    "    cv2.imshow('Original', frame)\n",
    "    cv2.imshow('Foreground', fgmask)\n",
    "\n",
    "    # Sair do loop ao pressionar 'q'\n",
    "    if cv2.waitKey(30) & 0xFF == ord('q'):\n",
    "        break\n",
    "\n",
    "# Liberar os recursos\n",
    "cap.release()\n",
    "cv2.destroyAllWindows()\n"
   ]
  }
 ],
 "metadata": {
  "language_info": {
   "name": "python"
  }
 },
 "nbformat": 4,
 "nbformat_minor": 2
}
